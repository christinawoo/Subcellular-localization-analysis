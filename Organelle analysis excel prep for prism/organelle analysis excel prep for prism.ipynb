{
 "cells": [
  {
   "cell_type": "code",
   "execution_count": 1,
   "id": "2cde0aad",
   "metadata": {},
   "outputs": [
    {
     "name": "stdout",
     "output_type": "stream",
     "text": [
      "done\n"
     ]
    }
   ],
   "source": [
    "import pandas as pd\n",
    "import numpy as np\n",
    "from matplotlib_venn import venn2\n",
    "import matplotlib.pyplot as plt\n",
    "import requests\n",
    "from requests.adapters import HTTPAdapter, Retry\n",
    "import os\n",
    "import glob\n",
    "import re\n",
    "import warnings\n",
    "warnings.simplefilter(\"ignore\")\n",
    "\n",
    "\n",
    "\n",
    "print('done')"
   ]
  },
  {
   "cell_type": "code",
   "execution_count": 9,
   "id": "692ae878",
   "metadata": {},
   "outputs": [],
   "source": [
    "def DAAM_for_prism(df):\n",
    "    df[['1','2']] = df['Description'].str.split('GN=',expand = True)\n",
    "    df[['Gene name','3']] = df['2'].str.split(' ', n=1, expand = True)\n",
    "    df['Log2FC(DAAM/DMSO)'] = np.log2(df['Abundance Ratio: (DAAM) / (DMSO)'])\n",
    "    df['-log10Pvalue(DAAM/DMSO)'] = -np.log10(df['Abundance Ratio P-Value: (DAAM) / (DMSO)'])\n",
    "    df=df[['Gene name', 'Log2FC(DAAM/DMSO)','-log10Pvalue(DAAM/DMSO)']]\n",
    "    return df\n",
    "def PCM_for_prism(df):\n",
    "    df[['1','2']] = df['Description'].str.split('GN=',expand = True)\n",
    "    df[['Gene name','3']] = df['2'].str.split(' ', n=1, expand = True)\n",
    "    df['Log2FC(photo/min)'] = np.log2(df['Abundance Ratio: (photo) / (min)'])\n",
    "    df['-log10Pvalue(photo/min)'] = -np.log10(df['Abundance Ratio P-Value: (photo) / (min)'])\n",
    "    df=df[['Gene name', 'Log2FC(photo/min)','-log10Pvalue(photo/min)']]\n",
    "    return df"
   ]
  },
  {
   "cell_type": "code",
   "execution_count": 14,
   "id": "783c260c",
   "metadata": {},
   "outputs": [],
   "source": [
    "df_DAAM_lyso = pd.read_excel('M-Ac79 Unipep1 nosig/Output data/Endomembrane proteins/matches_lysosome.xlsx')\n",
    "df_DAAM_ER = pd.read_excel('M-Ac79 Unipep1 nosig/Output data/Endomembrane proteins/matches_endoplasmic reticulum.xlsx')\n",
    "df_DAAM_mito = pd.read_excel('M-Ac79 Unipep1 nosig/Output data/Cytoplasm proteins/matches_mitochondrion.xlsx')\n",
    "df_DAAM_nuc = pd.read_excel('M-Ac79 Unipep1 nosig/Output data/Nuclear proteins/matches_nucleus.xlsx')\n",
    "df_DAAM_mem = pd.read_excel('M-Ac79 Unipep1 nosig/Output data/Membrane proteins/matches_membrane.xlsx')\n",
    "\n",
    "df1 = DAAM_for_prism(df_DAAM_lyso)\n",
    "df1.to_excel('output1/DAAM/DAAM_lysosome2.xlsx')\n",
    "df1 = DAAM_for_prism(df_DAAM_ER)\n",
    "df1.to_excel('output1/DAAM/DAAM_ER2.xlsx')\n",
    "df1 = DAAM_for_prism(df_DAAM_mito)\n",
    "df1.to_excel('output1/DAAM/DAAM_mito2.xlsx')\n",
    "df1 = DAAM_for_prism(df_DAAM_nuc)\n",
    "df1.to_excel('output1/DAAM/DAAM_nucleus2.xlsx')\n",
    "df1 = DAAM_for_prism(df_DAAM_mem)\n",
    "df1.to_excel('output1/DAAM/DAAM_membrane2.xlsx')"
   ]
  },
  {
   "cell_type": "code",
   "execution_count": 15,
   "id": "e46d71f6",
   "metadata": {},
   "outputs": [],
   "source": [
    "df_PCM1_lyso = pd.read_excel('M-PCM52 Unipep1 nosig/Output data/Endomembrane proteins/matches_lysosome.xlsx')\n",
    "df_PCM1_ER = pd.read_excel('M-PCM52 Unipep1 nosig/Output data/Endomembrane proteins/matches_endoplasmic reticulum.xlsx')\n",
    "df_PCM1_mito = pd.read_excel('M-PCM52 Unipep1 nosig/Output data/Cytoplasm proteins/matches_mitochondrion.xlsx')\n",
    "df_PCM1_nuc = pd.read_excel('M-PCM52 Unipep1 nosig/Output data/Nuclear proteins/matches_nucleus.xlsx')\n",
    "df_PCM1_mem = pd.read_excel('M-PCM52 Unipep1 nosig/Output data/Membrane proteins/matches_membrane.xlsx')\n",
    "\n",
    "df1 = PCM_for_prism(df_PCM1_lyso)\n",
    "df1.to_excel('output1/PCM-1/PCM1_lysosome2.xlsx')\n",
    "df1 = PCM_for_prism(df_PCM1_ER)\n",
    "df1.to_excel('output1/PCM-1/PCM1_ER2.xlsx')\n",
    "df1 = PCM_for_prism(df_PCM1_mito)\n",
    "df1.to_excel('output1/PCM-1/PCM1_mito2.xlsx')\n",
    "df1 = PCM_for_prism(df_PCM1_nuc)\n",
    "df1.to_excel('output1/PCM-1/PCM1_nucleus2.xlsx')\n",
    "df1 = PCM_for_prism(df_PCM1_mem)\n",
    "df1.to_excel('output1/PCM-1/PCM1_membrane2.xlsx')"
   ]
  },
  {
   "cell_type": "code",
   "execution_count": 16,
   "id": "2bd201c2",
   "metadata": {},
   "outputs": [],
   "source": [
    "df_PCM2_lyso = pd.read_excel('M-PCM50 Unipep1 nosig/Output data/Endomembrane proteins/matches_lysosome.xlsx')\n",
    "df_PCM2_ER = pd.read_excel('M-PCM50 Unipep1 nosig/Output data/Endomembrane proteins/matches_endoplasmic reticulum.xlsx')\n",
    "df_PCM2_mito = pd.read_excel('M-PCM50 Unipep1 nosig/Output data/Cytoplasm proteins/matches_mitochondrion.xlsx')\n",
    "df_PCM2_nuc = pd.read_excel('M-PCM50 Unipep1 nosig/Output data/Nuclear proteins/matches_nucleus.xlsx')\n",
    "df_PCM2_mem = pd.read_excel('M-PCM50 Unipep1 nosig/Output data/Membrane proteins/matches_membrane.xlsx')\n",
    "\n",
    "df1 = PCM_for_prism(df_PCM2_lyso)\n",
    "df1.to_excel('output1/PCM-2/PCM2_lysosome2.xlsx')\n",
    "df1 = PCM_for_prism(df_PCM2_ER)\n",
    "df1.to_excel('output1/PCM-2/PCM2_ER2.xlsx')\n",
    "df1 = PCM_for_prism(df_PCM2_mito)\n",
    "df1.to_excel('output1/PCM-2/PCM2_mito2.xlsx')\n",
    "df1 = PCM_for_prism(df_PCM2_nuc)\n",
    "df1.to_excel('output1/PCM-2/PCM2_nucleus2.xlsx')\n",
    "df1 = PCM_for_prism(df_PCM2_mem)\n",
    "df1.to_excel('output1/PCM-2/PCM2_membrane2.xlsx')"
   ]
  },
  {
   "cell_type": "code",
   "execution_count": null,
   "id": "319be9e1",
   "metadata": {},
   "outputs": [],
   "source": []
  }
 ],
 "metadata": {
  "kernelspec": {
   "display_name": "Python 3 (ipykernel)",
   "language": "python",
   "name": "python3"
  },
  "language_info": {
   "codemirror_mode": {
    "name": "ipython",
    "version": 3
   },
   "file_extension": ".py",
   "mimetype": "text/x-python",
   "name": "python",
   "nbconvert_exporter": "python",
   "pygments_lexer": "ipython3",
   "version": "3.10.9"
  }
 },
 "nbformat": 4,
 "nbformat_minor": 5
}
