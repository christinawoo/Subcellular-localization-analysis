{
 "cells": [
  {
   "cell_type": "code",
   "execution_count": 1,
   "id": "086696f2",
   "metadata": {},
   "outputs": [
    {
     "name": "stdout",
     "output_type": "stream",
     "text": [
      "done\n"
     ]
    }
   ],
   "source": [
    "import pandas as pd\n",
    "import numpy as np\n",
    "import math\n",
    "from matplotlib_venn import venn2\n",
    "import matplotlib.pyplot as plt\n",
    "import requests\n",
    "from requests.adapters import HTTPAdapter, Retry\n",
    "import os\n",
    "import glob\n",
    "import re\n",
    "import warnings\n",
    "warnings.simplefilter(\"ignore\")\n",
    "\n",
    "\n",
    "\n",
    "print('done')"
   ]
  },
  {
   "cell_type": "code",
   "execution_count": 81,
   "id": "acaa3bfe",
   "metadata": {},
   "outputs": [],
   "source": [
    "def pullout_GO_info(df):\n",
    "    df[['1','class','2']]= df['Category'].str.split('_', expand = True)\n",
    "    df[['3','pathway']] = df['Term'].str.split('~', expand = True)\n",
    "    df=df.rename(columns={'Count':'count','Fold Enrichment':'enrichment','PValue':'pvalue'})\n",
    "    df['enrichment']=np.log2(df['enrichment'])\n",
    "    df=df[['pathway','enrichment','pvalue','count','class']]\n",
    "    df=df.loc[df['pvalue'] <= 0.05]\n",
    "    return df\n",
    "def pullout_KEGG(df):\n",
    "    df[['class','1']]= df['Category'].str.split('_', expand = True)\n",
    "    df[['2','pathway']] = df['Term'].str.split(':', expand = True)\n",
    "    df=df.rename(columns={'Count':'count','Fold Enrichment':'enrichment','PValue':'pvalue'})\n",
    "    df['enrichment']=np.log2(df['enrichment'])\n",
    "    df=df[['pathway','enrichment','pvalue','count','class']]\n",
    "    df=df.loc[df['pvalue'] <= 0.05]\n",
    "    return df\n",
    "def pullout_UP_PTM(df):\n",
    "    df[['2','pathway']] = df['Term'].str.split('~', expand = True)-\n",
    "    df=df.rename(columns={'Category':'class','Count':'count','Fold Enrichment':'enrichment','PValue':'pvalue'})\n",
    "    df['enrichment']=np.log2(df['enrichment'])\n",
    "    df=df[['pathway','enrichment','pvalue','count','class']]\n",
    "    df=df.loc[df['pvalue'] <= 0.05]\n",
    "    return df\n",
    "def extract_data(directory):\n",
    "    files = os.listdir(directory)\n",
    "    txt_files = [file for file in files if file.endswith('.txt') or file.endswith('.csv')]\n",
    "\n",
    "    # Read each txt file as an individual dataframe\n",
    "    individual_dfs = {}\n",
    "    for file in txt_files:\n",
    "        df = pd.read_csv(os.path.join(directory, file), sep='\\t')\n",
    "        individual_dfs[file] = df\n",
    "    \n",
    "    data_dict = {}\n",
    "    GO = 'GO'\n",
    "    KEGG = 'KEGG'\n",
    "    UP_PTM = 'PTM'\n",
    "    GO_dfs = {key: df for key, df in individual_dfs.items() if GO in key}\n",
    "    for key, df in GO_dfs.items():\n",
    "        df_GO = pullout_GO_info(df)\n",
    "        # Add the merged_df to the matching_dict\n",
    "        data_dict[f'simple_{key}'] = df_GO\n",
    "        \n",
    "    KEGG_dfs = {key: df for key, df in individual_dfs.items() if KEGG in key}\n",
    "    for key, df in KEGG_dfs.items():\n",
    "        df_KEGG = pullout_KEGG(df)\n",
    "        # Add the merged_df to the matching_dict\n",
    "        data_dict[f'simple_{key}'] = df_KEGG\n",
    "        \n",
    "    UP_PTM_dfs = {key:df for key, df in individual_dfs.items() if UP_PTM in key}\n",
    "    for key, df in UP_PTM_dfs.items():\n",
    "        df_UP_PTM = pullout_UP_PTM(df)\n",
    "        data_dict[f'simple_{key}'] = df_UP_PTM\n",
    "    return data_dict\n",
    "\n",
    "def save_dfs_to_csv(df_dict, save_directory):\n",
    "    # Make sure the directory exists, if not, create it\n",
    "    if not os.path.exists(save_directory):\n",
    "        os.makedirs(save_directory)\n",
    "    \n",
    "    for key, df in df_dict.items():\n",
    "        # Specify the path of the excel file\n",
    "        file_path = os.path.join(save_directory, f'{key}')\n",
    "        \n",
    "        # Save the dataframe to an excel file\n",
    "        df.to_csv(file_path)\n",
    "    \n",
    "    "
   ]
  },
  {
   "cell_type": "code",
   "execution_count": 78,
   "id": "92796931",
   "metadata": {},
   "outputs": [],
   "source": [
    "directory_of_DAVID = 'DAVID annotations/DAAM'\n",
    "DAAM_dict = extract_data(directory_of_DAVID)\n",
    "save_dfs_to_csv(DAAM_dict,'Output/DAAM')"
   ]
  },
  {
   "cell_type": "code",
   "execution_count": 84,
   "id": "bf77344b",
   "metadata": {},
   "outputs": [],
   "source": [
    "directory_of_PCM1 = 'DAVID annotations/PCM-1'\n",
    "PCM1_dict = extract_data(directory_of_PCM1)\n",
    "save_dfs_to_csv(PCM1_dict,'Output/PCM-1')"
   ]
  },
  {
   "cell_type": "code",
   "execution_count": 85,
   "id": "0164decf",
   "metadata": {},
   "outputs": [],
   "source": [
    "directory_of_PCM2 = 'DAVID annotations/PCM-2'\n",
    "PCM2_dict = extract_data(directory_of_PCM2)\n",
    "save_dfs_to_csv(PCM2_dict,'Output/PCM-2')"
   ]
  },
  {
   "cell_type": "code",
   "execution_count": null,
   "id": "4b004e46",
   "metadata": {},
   "outputs": [],
   "source": []
  },
  {
   "cell_type": "code",
   "execution_count": null,
   "id": "a3150997",
   "metadata": {},
   "outputs": [],
   "source": []
  },
  {
   "cell_type": "code",
   "execution_count": null,
   "id": "296dec34",
   "metadata": {},
   "outputs": [],
   "source": []
  },
  {
   "cell_type": "code",
   "execution_count": null,
   "id": "e3dd89d5",
   "metadata": {
    "scrolled": true
   },
   "outputs": [],
   "source": []
  },
  {
   "cell_type": "code",
   "execution_count": null,
   "id": "d1493e58",
   "metadata": {},
   "outputs": [],
   "source": [
    "df_DAAM_BP = pd.read_csv('DAVID annotations/DAAM/DAAM_1p6_GO_BP.txt', sep='\\t')\n",
    "df_DAAM_CC = pd.read_csv('DAVID annotations/DAAM/DAAM_1p6_GO_CC.txt', sep='\\t')\n",
    "df_DAAM_MF = pd.read_csv('DAVID annotations/DAAM/DAAM_1p6_GO_MF.txt', sep='\\t')\n",
    "df_DAAM_KEGG = pd.read_csv('DAVID annotations/DAAM/DAAM_1p6_KEGG.txt', sep='\\t')\n",
    "\n",
    "df_DAAM_BP_simp = pullout_GO_info(df_DAAM_BP)\n",
    "df_DAAM_CC_simp = pullout_GO_info(df_DAAM_CC)\n",
    "df_DAAM_MF_simp = pullout_GO_info(df_DAAM_MF)\n",
    "dfs_DAAM = [df_DAAM_BP_simp,df_DAAM_CC_simp,df_DAAM_MF_simp]\n",
    "df_DAAM_Comb = pd.concat(dfs_DAAM)\n",
    "\n",
    "df_DAAM_BP_simp.to_excel('Output/DAAM/DAAM_BP.xlsx')\n",
    "df_DAAM_CC_simp.to_excel('Output/DAAM/DAAM_CC.xlsx')\n",
    "df_DAAM_MF_simp.to_excel('Output/DAAM/DAAM_MF.xlsx')\n",
    "df_DAAM_Comb.to_excel('Output/DAAM/DAAM_GO_combined.xlsx')\n",
    "\n",
    "\n",
    "df_PCM1_BP = pd.read_csv('DAVID annotations/PCM-1/PCM-1_1p3_GO_BP.txt', sep='\\t')\n",
    "df_PCM1_CC = pd.read_csv('DAVID annotations/PCM-1/PCM-1_1p3_GO_CC.txt', sep='\\t')\n",
    "df_PCM1_MF = pd.read_csv('DAVID annotations/PCM-1/PCM-1_1p3_GO_MF.txt', sep='\\t')\n",
    "df_PCM1_KEGG = pd.read_csv('DAVID annotations/PCM-1/PCM-1_1p3_KEGG.txt', sep='\\t')\n",
    "\n",
    "df_PCM1_BP_simp = pullout_GO_info(df_PCM1_BP)\n",
    "df_PCM1_CC_simp = pullout_GO_info(df_PCM1_CC)\n",
    "df_PCM1_MF_simp = pullout_GO_info(df_PCM1_MF)\n",
    "dfs_PCM1 = [df_PCM1_BP_simp, df_PCM1_CC_simp, df_PCM1_MF_simp]\n",
    "df_PCM1_comb = pd.concat(dfs_PCM1)\n",
    "\n",
    "df_PCM1_BP_simp.to_excel('Output/PCM-1/PCM-1_BP.xlsx')\n",
    "df_PCM1_CC_simp.to_excel('Output/PCM-1/PCM-1_CC.xlsx')\n",
    "df_PCM1_MF_simp.to_excel('Output/PCM-1/PCM-1_MF.xlsx')\n",
    "df_PCM1_comb.to_excel('Output/PCM-1/PCM-1_GO_combine.xlsx')\n",
    "\n",
    "\n",
    "df_PCM2_BP = pd.read_csv('DAVID annotations/PCM-2/PCM-2_1p3_GO_BP.txt', sep='\\t')\n",
    "df_PCM2_CC = pd.read_csv('DAVID annotations/PCM-2/PCM-2_1p3_GO_CC.txt', sep='\\t')\n",
    "df_PCM2_MF = pd.read_csv('DAVID annotations/PCM-2/PCM-2_1p3_GO_MF.txt', sep='\\t')\n",
    "df_PCM2_KEGG = pd.read_csv('DAVID annotations/PCM-2/PCM-2_1p3_KEGG.txt', sep='\\t')\n",
    "\n",
    "df_PCM2_BP_simp = pullout_GO_info(df_PCM2_BP)\n",
    "df_PCM2_CC_simp = pullout_GO_info(df_PCM2_CC)\n",
    "df_PCM2_MF_simp = pullout_GO_info(df_PCM2_MF)\n",
    "dfs_PCM2 = [df_PCM2_BP_simp, df_PCM2_CC_simp, df_PCM2_MF_simp]\n",
    "df_PCM2_comb = pd.concat(dfs_PCM2)\n",
    "\n",
    "df_PCM2_BP_simp.to_excel('Output/PCM-2/PCM-2_BP.xlsx')\n",
    "df_PCM2_CC_simp.to_excel('Output/PCM-2/PCM-2_CC.xlsx')\n",
    "df_PCM2_MF_simp.to_excel('Output/PCM-2/PCM-2_MF.xlsx')\n",
    "df_PCM2_comb.to_excel('Output/PCM-2/PCM-2_GO_combine.xlsx')"
   ]
  },
  {
   "cell_type": "markdown",
   "id": "3ba9d826",
   "metadata": {},
   "source": [
    "# "
   ]
  }
 ],
 "metadata": {
  "kernelspec": {
   "display_name": "Python 3 (ipykernel)",
   "language": "python",
   "name": "python3"
  },
  "language_info": {
   "codemirror_mode": {
    "name": "ipython",
    "version": 3
   },
   "file_extension": ".py",
   "mimetype": "text/x-python",
   "name": "python",
   "nbconvert_exporter": "python",
   "pygments_lexer": "ipython3",
   "version": "3.10.9"
  }
 },
 "nbformat": 4,
 "nbformat_minor": 5
}
